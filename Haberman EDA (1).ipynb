{
 "cells": [
  {
   "cell_type": "code",
   "execution_count": null,
   "id": "ea64cd19-fe1f-49a7-95fc-2ac977026167",
   "metadata": {},
   "outputs": [],
   "source": [
    "import numpy as np\n",
    "import pandas as pd\n",
    "from matplotlib import pyplot as plt\n",
    "import seaborn as sns\n",
    "\n",
    "import warnings\n",
    "warnings.filterwarnings(\"ignore\")"
   ]
  },
  {
   "cell_type": "code",
   "execution_count": null,
   "id": "0c33ae95-073c-47b8-a4d4-1d1cd5007b98",
   "metadata": {},
   "outputs": [],
   "source": [
    "df = pd.read_csv('Downloads/haberman.csv')"
   ]
  },
  {
   "cell_type": "code",
   "execution_count": null,
   "id": "140ee6ca-ff40-41db-bcb0-348bd97fb519",
   "metadata": {},
   "outputs": [],
   "source": [
    "df.columns=['Age','Year','Nodes','Survival']"
   ]
  },
  {
   "cell_type": "code",
   "execution_count": null,
   "id": "929fbbe0-3ebb-4cb8-8b0c-def726b3cc53",
   "metadata": {},
   "outputs": [],
   "source": [
    "df.head()"
   ]
  },
  {
   "cell_type": "markdown",
   "id": "9e842103-2ae8-402b-824f-d5d01755c0bf",
   "metadata": {},
   "source": [
    "Agenda :- Given a patient with the some Age, of Operation and number of Lymph nodes detected,  we have to predict or conclude \n",
    "The chance whether the patient will live then 5 years or more then 5 year"
   ]
  },
  {
   "cell_type": "code",
   "execution_count": null,
   "id": "48808ba7-5bfc-46b3-bf8c-37328bc05921",
   "metadata": {},
   "outputs": [],
   "source": [
    "df.shape"
   ]
  },
  {
   "cell_type": "code",
   "execution_count": null,
   "id": "f0cca055-de77-4fe8-bec8-363b212d89e9",
   "metadata": {},
   "outputs": [],
   "source": [
    "df.isnull().sum()"
   ]
  },
  {
   "cell_type": "code",
   "execution_count": null,
   "id": "2e9e1513-46ca-4f77-b106-9cbfedffbb8a",
   "metadata": {},
   "outputs": [],
   "source": [
    "df.duplicated().value_counts()"
   ]
  },
  {
   "cell_type": "code",
   "execution_count": null,
   "id": "581c268f-6b36-4280-a430-1d5bfb20cbf3",
   "metadata": {},
   "outputs": [],
   "source": [
    "# We will not remove duplicates, as these can be a genuine possibility"
   ]
  },
  {
   "cell_type": "code",
   "execution_count": null,
   "id": "13c73cc2-066c-4e4d-965a-c3e82af06bde",
   "metadata": {},
   "outputs": [],
   "source": [
    "df.info()"
   ]
  },
  {
   "cell_type": "code",
   "execution_count": null,
   "id": "7a807062-5410-4968-9e58-e46b94fb32b2",
   "metadata": {},
   "outputs": [],
   "source": [
    "df.Survival.value_counts()"
   ]
  },
  {
   "cell_type": "code",
   "execution_count": null,
   "id": "bd21db4f-3417-48cf-91f7-1f8adb7989e1",
   "metadata": {},
   "outputs": [],
   "source": [
    "df.describe()"
   ]
  },
  {
   "cell_type": "code",
   "execution_count": null,
   "id": "90f05fd7-c1bf-4930-8d7b-acc8475c5fcb",
   "metadata": {},
   "outputs": [],
   "source": [
    "# MIN(AGE)=30, MAX(AGE)=85, YEAR(1958,1969),NODES=[0,52], SURVIVAL=[1,2]\n",
    "# NODES have higher count DEnsity between 0 and 4(75% percentile)"
   ]
  },
  {
   "cell_type": "markdown",
   "id": "0e178422-55ff-4718-bee7-623accfc228a",
   "metadata": {},
   "source": [
    "# UNIVARIATE ANANLYSIS"
   ]
  },
  {
   "cell_type": "markdown",
   "id": "b2621f63-992e-43d3-8f33-f40277a08137",
   "metadata": {},
   "source": [
    "## 1. Survival"
   ]
  },
  {
   "cell_type": "code",
   "execution_count": null,
   "id": "d0ec4192-a78f-4f4d-953e-3c7df21aa2a9",
   "metadata": {},
   "outputs": [],
   "source": [
    "df.Survival.value_counts()"
   ]
  },
  {
   "cell_type": "code",
   "execution_count": null,
   "id": "7a7359ef-59d2-44a6-bb46-7e7d94c3e8a1",
   "metadata": {},
   "outputs": [],
   "source": [
    "df.Survival.value_counts(1)"
   ]
  },
  {
   "cell_type": "code",
   "execution_count": null,
   "id": "605f8249-7547-4a8b-a6a0-3cf941ebe73c",
   "metadata": {},
   "outputs": [],
   "source": [
    "# There are only 27% who will be living less then 5 years, which means the dataset is imbalanced."
   ]
  },
  {
   "cell_type": "code",
   "execution_count": null,
   "id": "a8055dfd-451b-467d-adb8-67073b7e55b8",
   "metadata": {},
   "outputs": [],
   "source": [
    "sns.countplot(x=\"Survival\", data=df)"
   ]
  },
  {
   "cell_type": "markdown",
   "id": "f50fcf8f-5a5d-4400-aee4-911540945da9",
   "metadata": {},
   "source": [
    "## 2. AGE"
   ]
  },
  {
   "cell_type": "code",
   "execution_count": null,
   "id": "e80bbf70-67af-4725-be95-d9370c117c9b",
   "metadata": {},
   "outputs": [],
   "source": [
    "df.Age.describe()"
   ]
  },
  {
   "cell_type": "code",
   "execution_count": null,
   "id": "e76653ea-deb5-4195-a146-2e29e649ea7d",
   "metadata": {},
   "outputs": [],
   "source": [
    "print(df.Age.skew())\n",
    "sns.histplot(x='Age',data=df,binwidth=5 ,color='red', kde= True, )"
   ]
  },
  {
   "cell_type": "code",
   "execution_count": null,
   "id": "13418471-182f-4a7b-b275-9117658c5ef9",
   "metadata": {},
   "outputs": [],
   "source": [
    "# The Maximum people who were opereated where in the age group of 50 to 55."
   ]
  },
  {
   "cell_type": "code",
   "execution_count": null,
   "id": "dc05f0e5-3912-4f56-b691-56ecdd0c82a2",
   "metadata": {},
   "outputs": [],
   "source": [
    "sns.ecdfplot(x='Age', data=df,  hue= 'Survival',  palette={1: \"orange\", 2: \"blue\"})\n",
    "plt.axvline(55, c='black' )\n",
    "plt.axhline(0.5,c= 'red')"
   ]
  },
  {
   "cell_type": "code",
   "execution_count": null,
   "id": "57559bcc-f88b-4562-a732-9a9a9499dc1f",
   "metadata": {},
   "outputs": [],
   "source": [
    "# 80% of the people were 65 years or below\n",
    "# 50% of the people were 52 years or below"
   ]
  },
  {
   "cell_type": "markdown",
   "id": "a8280b36-6c80-479b-9915-d5ef110c6dbe",
   "metadata": {},
   "source": [
    "# 3. Operation year"
   ]
  },
  {
   "cell_type": "code",
   "execution_count": null,
   "id": "a277ed4b-cd60-4bb4-92fd-957b79deafa6",
   "metadata": {},
   "outputs": [],
   "source": [
    "df.Year.value_counts().plot(kind = 'bar',color ='red')"
   ]
  },
  {
   "cell_type": "markdown",
   "id": "2f52973a-2b2c-446e-9cff-1c54ae40abb0",
   "metadata": {},
   "source": [
    "## 4. Lymoh nodes"
   ]
  },
  {
   "cell_type": "code",
   "execution_count": null,
   "id": "ab53ff6d-9d8e-4ac6-8c3f-74222467568f",
   "metadata": {},
   "outputs": [],
   "source": [
    "df.Nodes.describe()"
   ]
  },
  {
   "cell_type": "code",
   "execution_count": null,
   "id": "d27c7eef-aecb-47e6-b89f-cda2d626f624",
   "metadata": {},
   "outputs": [],
   "source": [
    "plt.figure (figsize=(12,6))\n",
    "df.Nodes.value_counts().plot(kind='bar', color='orange')"
   ]
  },
  {
   "cell_type": "code",
   "execution_count": null,
   "id": "752c5eeb-f9c9-4012-a74b-c3f10a3a8236",
   "metadata": {},
   "outputs": [],
   "source": [
    "print(df.Nodes.skew())\n",
    "sns.histplot(x=\"Nodes\",data=df, binwidth=5, kde=True)"
   ]
  },
  {
   "cell_type": "code",
   "execution_count": null,
   "id": "93cb4d09-5e62-478f-8ea9-60820f21e5df",
   "metadata": {},
   "outputs": [],
   "source": [
    "# Maximum Density Count for Nodes is between 0 and 10."
   ]
  },
  {
   "cell_type": "markdown",
   "id": "b323fa66-b30d-43ce-b640-a422d2806020",
   "metadata": {},
   "source": [
    "## BIVARIATE ANALYSIS"
   ]
  },
  {
   "cell_type": "code",
   "execution_count": null,
   "id": "8477ccc4-feaa-4656-a05b-ecc52bcb062c",
   "metadata": {},
   "outputs": [],
   "source": [
    "## Bivariate :- It's Analysis two variable two features at a time"
   ]
  },
  {
   "cell_type": "code",
   "execution_count": null,
   "id": "f1e39fd8-0766-49f1-9c2d-04e5e61fb194",
   "metadata": {},
   "outputs": [],
   "source": [
    "# Age - Surviaval\n",
    "# Age - Nodes - Survival\n",
    "# Nodes - Survival\n",
    "# Year - Survival\n",
    "# Year-  Nodes\n",
    "# Age- Years"
   ]
  },
  {
   "cell_type": "code",
   "execution_count": null,
   "id": "de2e485a-6644-4d9c-8d9b-ef86bf3c65ca",
   "metadata": {},
   "outputs": [],
   "source": [
    "sns.boxplot(x=\"Survival\", y= \"Age\", data=df, color='orange')"
   ]
  },
  {
   "cell_type": "code",
   "execution_count": null,
   "id": "e9b1dbea-7cd3-4e1c-aa28-77b3f642ecaf",
   "metadata": {},
   "outputs": [],
   "source": [
    "# People with age>77 will actually live lesser than 5 years."
   ]
  },
  {
   "cell_type": "code",
   "execution_count": null,
   "id": "4ef05181-68e5-4316-9c51-2d18e8700910",
   "metadata": {},
   "outputs": [],
   "source": [
    "sns.FacetGrid(df, hue='Survival',height = 6).map(sns.histplot,'Age',bins=5,kde=True).add_legend()\n",
    "plt.xlabel(\"Age\")\n",
    "plt.ylabel('Percentage of Survival')\n",
    "plt.title ('PDF for age count', size=11)\n",
    "plt.show()"
   ]
  },
  {
   "cell_type": "code",
   "execution_count": null,
   "id": "e2731ff0-eb9b-4ecc-a019-c205127c694a",
   "metadata": {},
   "outputs": [],
   "source": [
    "# Maximum People of leving less than 5 years."
   ]
  },
  {
   "cell_type": "code",
   "execution_count": null,
   "id": "d740f608-4393-4806-9a26-50713ab8cc5d",
   "metadata": {},
   "outputs": [],
   "source": [
    "df.groupby('Age')['Survival'].sum().sort_values(ascending=False)"
   ]
  },
  {
   "cell_type": "code",
   "execution_count": null,
   "id": "b885e2f5-93e4-4f0b-9bc5-98708d04431b",
   "metadata": {},
   "outputs": [],
   "source": [
    "df.Age.value_counts().sort_values(ascending=False)"
   ]
  },
  {
   "cell_type": "code",
   "execution_count": null,
   "id": "9350022f-3732-43dd-9602-ebaefb18df96",
   "metadata": {},
   "outputs": [],
   "source": [
    "sns.jointplot(x= 'Age',y='Nodes',data=df, hue='Survival',kind='kde', palette={1: 'blue', 2: 'orange'} )\n",
    "plt.suptitle('Age and Node PDF by Survival', fontsize=14)\n",
    "plt.tight_layout()\n",
    "plt.subplots_adjust(top=0.95)\n",
    "plt.show;"
   ]
  },
  {
   "cell_type": "code",
   "execution_count": null,
   "id": "0f796006-8dcb-4c35-9d4d-8824e9281add",
   "metadata": {},
   "outputs": [],
   "source": [
    "sns.boxplot(x= 'Survival',y='Nodes',data=df, palette={'1': 'blue', '2': 'orange'}\n",
    ")"
   ]
  },
  {
   "cell_type": "code",
   "execution_count": null,
   "id": "e9554b44-ac0c-4d35-8600-320c2984e308",
   "metadata": {},
   "outputs": [],
   "source": [
    "sns.FacetGrid(df, hue='Survival',height = 6).map(sns.histplot,'Nodes',bins=10,kde=True, alpha=0.5).add_legend()\n",
    "\n",
    "plt.xlabel(\"Nodes\")\n",
    "plt.ylabel('Percentage of Survival')\n",
    "plt.title ('PDF for age count', size=15)\n",
    "plt.show();"
   ]
  },
  {
   "cell_type": "code",
   "execution_count": null,
   "id": "62093278-fdd3-437e-ab82-41292964de05",
   "metadata": {},
   "outputs": [],
   "source": [
    "sns.FacetGrid(df, hue='Survival',height = 6).map(sns.histplot,'Year',bins=10,kde=True, alpha=0.5).add_legend()\n",
    "plt.xlabel('Year')\n",
    "plt.ylabel('Percentage of Survival')\n",
    "plt.title ('PDF for Years count', size=15)\n",
    "plt.show();"
   ]
  },
  {
   "cell_type": "code",
   "execution_count": null,
   "id": "12269b33-154e-4d15-9644-6594483f4994",
   "metadata": {},
   "outputs": [],
   "source": [
    "df.groupby('Survival')['Year'].value_counts().unstack()"
   ]
  },
  {
   "cell_type": "code",
   "execution_count": null,
   "id": "552f2329-34e5-4391-bef0-c878b59b3f31",
   "metadata": {},
   "outputs": [],
   "source": [
    "13/15"
   ]
  },
  {
   "cell_type": "code",
   "execution_count": null,
   "id": "1de38086-e41f-4c4d-aabf-ae7269b106aa",
   "metadata": {},
   "outputs": [],
   "source": [
    "# 1965 - 46 % People died\n",
    "# 1958 - 33 % died , 1959 - 45%\n",
    "# 33% people died before 5 years when operated between 1965,66"
   ]
  },
  {
   "cell_type": "code",
   "execution_count": null,
   "id": "2082a080-76c9-406e-b3c0-c811c5eeb4d2",
   "metadata": {},
   "outputs": [],
   "source": [
    "sns.jointplot(x= 'Age',y='Year',data=df, hue='Survival',kind='kde', palette={1: 'blue', 2: 'orange'} )\n",
    "plt.suptitle('Age and Year PDF by Survival', fontsize=14)\n",
    "plt.tight_layout()\n",
    "plt.subplots_adjust(top=0.95)\n",
    "plt.show;"
   ]
  },
  {
   "cell_type": "markdown",
   "id": "3fb27f89-069c-4240-ba95-522f64a87f06",
   "metadata": {},
   "source": [
    "# MULTIVARIATE ANALYSIS"
   ]
  },
  {
   "cell_type": "code",
   "execution_count": null,
   "id": "7bd9baaf-ac40-44a8-8848-d9d469d6d169",
   "metadata": {},
   "outputs": [],
   "source": [
    "#IS generay used for core relation"
   ]
  },
  {
   "cell_type": "code",
   "execution_count": null,
   "id": "271db257-afcd-40e4-9373-6f4f1bce0f2f",
   "metadata": {},
   "outputs": [],
   "source": [
    "plt.figure(figsize=(7,7))\n",
    "corr=df.corr()\n",
    "sns.heatmap(corr, xticklabels=corr.columns, yticklabels=corr.columns, cmap='Oranges', annot=True);"
   ]
  },
  {
   "cell_type": "markdown",
   "id": "c5168f81-7655-484c-be09-97881e8776f6",
   "metadata": {},
   "source": [
    "# Nodes and Survival are co-related by 29%"
   ]
  },
  {
   "cell_type": "code",
   "execution_count": null,
   "id": "ef564b01-f996-4838-a0d0-cd36634da636",
   "metadata": {},
   "outputs": [],
   "source": []
  }
 ],
 "metadata": {
  "kernelspec": {
   "display_name": "Python 3 (ipykernel)",
   "language": "python",
   "name": "python3"
  },
  "language_info": {
   "codemirror_mode": {
    "name": "ipython",
    "version": 3
   },
   "file_extension": ".py",
   "mimetype": "text/x-python",
   "name": "python",
   "nbconvert_exporter": "python",
   "pygments_lexer": "ipython3",
   "version": "3.13.5"
  }
 },
 "nbformat": 4,
 "nbformat_minor": 5
}
